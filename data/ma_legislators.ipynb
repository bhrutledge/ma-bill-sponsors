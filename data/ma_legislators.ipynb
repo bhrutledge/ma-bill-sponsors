{
 "cells": [
  {
   "cell_type": "code",
   "execution_count": 1,
   "metadata": {},
   "outputs": [],
   "source": [
    "from collections import OrderedDict\n",
    "from pathlib import PurePath\n",
    "\n",
    "from bs4 import BeautifulSoup\n",
    "import json\n",
    "import requests\n",
    "import requests_cache\n",
    "from tqdm.notebook import tqdm"
   ]
  },
  {
   "cell_type": "code",
   "execution_count": 2,
   "metadata": {},
   "outputs": [],
   "source": [
    "requests_cache.install_cache()"
   ]
  },
  {
   "cell_type": "code",
   "execution_count": 3,
   "metadata": {},
   "outputs": [],
   "source": [
    "#requests_cache.clear()"
   ]
  },
  {
   "cell_type": "code",
   "execution_count": 4,
   "metadata": {},
   "outputs": [],
   "source": [
    "BASE_URL = 'https://malegislature.gov'\n",
    "\n",
    "def select_string(soup, selector):\n",
    "    try:\n",
    "        return (soup.select_one(selector).string or '').strip()\n",
    "    except AttributeError:\n",
    "        return ''\n",
    "\n",
    "def get_soup(url):\n",
    "    # print(url)\n",
    "    # HACK: Work around SSLError \"unable to get local issuer certificate\"\n",
    "    response = requests.get(url, verify=False)\n",
    "    response.raise_for_status()\n",
    "    #print(f'Status: {response.status_code}, Cached: {response.from_cache}')\n",
    "    return BeautifulSoup(response.text, 'lxml')\n",
    "\n",
    "CLEAN_URLS = {\n",
    "    'https://malegislature.gov/Legislators/District/4thHampden': {\n",
    "        'chamber': 'House',\n",
    "        'district': '4th Hampden'\n",
    "    }\n",
    "}\n",
    "\n",
    "def parse_chamber(soup):\n",
    "    for row_soup in tqdm(soup.select('#legislatorTable tbody tr')):\n",
    "        # TODO: Rework this to be more flexible/informative about missing data (e.g. \"Vacant\")\n",
    "        row = parse_leg_row(row_soup)\n",
    "\n",
    "        profile_soup = get_soup(row['url'])\n",
    "        \n",
    "        try:\n",
    "            profile = parse_leg_profile(profile_soup)\n",
    "        except AttributeError as exc:\n",
    "            print(f\"Error parsing {row['url']}: {exc}\")\n",
    "            profile = OrderedDict()\n",
    "\n",
    "        profile.update(row)\n",
    "\n",
    "        clean_data = CLEAN_URLS.get(profile['url'], {})\n",
    "        profile.update(clean_data)\n",
    "        \n",
    "        yield profile\n",
    "\n",
    "def parse_leg_row(soup):\n",
    "    return OrderedDict([\n",
    "        ('first_name', select_string(soup, 'td:nth-of-type(3)')),\n",
    "        ('last_name', select_string(soup, 'td:nth-of-type(4)')),\n",
    "        ('party', select_string(soup, 'td:nth-of-type(6)')),\n",
    "        ('photo', BASE_URL + soup.select_one('.thumb img')['src']),\n",
    "        ('url', BASE_URL + soup.select_one('td:nth-of-type(3) a')['href']),\n",
    "        ('email', select_string(soup, 'td:nth-of-type(9) a')),\n",
    "        ('phone', select_string(soup, 'td:nth-of-type(8)')),\n",
    "        ('room', select_string(soup, 'td:nth-of-type(7)')),\n",
    "    ])\n",
    "\n",
    "def parse_leg_profile(soup):\n",
    "    leg_type = soup.select_one('h1 span')\n",
    "    return OrderedDict([\n",
    "        ('chamber', 'Senate' if leg_type.string == 'Senator' else 'House'),\n",
    "        ('district', soup.select_one('.subTitle').string.split('-')[1].strip()),\n",
    "        ('full_name', leg_type.next_sibling.string.strip()),\n",
    "    ])\n",
    "\n",
    "def get_chamber(chamber_name):\n",
    "    chamber_url = BASE_URL + f'/Legislators/Members/{chamber_name.title()}'\n",
    "    chamber_soup = get_soup(chamber_url)\n",
    "    chamber = list(parse_chamber(chamber_soup))\n",
    "\n",
    "    print(json.dumps([chamber[0], \"...\", chamber[-1]], indent=2))\n",
    "    \n",
    "    return chamber\n",
    "\n",
    "def save_json(obj, json_path):\n",
    "    with open(json_path, 'w') as json_file:\n",
    "        json.dump(obj, json_file)\n",
    "\n",
    "    !ls -lh $json_path\n",
    "    !head -c 1024 $json_path"
   ]
  },
  {
   "cell_type": "code",
   "execution_count": 9,
   "metadata": {},
   "outputs": [
    {
     "data": {
      "application/vnd.jupyter.widget-view+json": {
       "model_id": "953b13164b1745078c0137d797fc5538",
       "version_major": 2,
       "version_minor": 0
      },
      "text/plain": [
       "HBox(children=(FloatProgress(value=0.0, max=160.0), HTML(value='')))"
      ]
     },
     "metadata": {},
     "output_type": "display_data"
    },
    {
     "name": "stdout",
     "output_type": "stream",
     "text": [
      "Error parsing https://malegislature.gov/Legislators/District/4thHampden: 'NoneType' object has no attribute 'string'\n",
      "\n",
      "[\n",
      "  {\n",
      "    \"chamber\": \"House\",\n",
      "    \"district\": \"2nd Middlesex\",\n",
      "    \"full_name\": \"James Arciero\",\n",
      "    \"first_name\": \"James\",\n",
      "    \"last_name\": \"Arciero\",\n",
      "    \"party\": \"Democrat\",\n",
      "    \"photo\": \"https://malegislature.gov/Legislators/Profile/70/J_A1.jpg\",\n",
      "    \"url\": \"https://malegislature.gov/Legislators/Profile/J_A1\",\n",
      "    \"email\": \"James.Arciero@mahouse.gov\",\n",
      "    \"phone\": \"(617) 722-2012\",\n",
      "    \"room\": \"277\"\n",
      "  },\n",
      "  \"...\",\n",
      "  {\n",
      "    \"first_name\": \"Vacant\",\n",
      "    \"last_name\": \"4th Hampden\",\n",
      "    \"party\": \"\",\n",
      "    \"photo\": \"https://malegislature.gov/Legislators/Profile/NoPhotoAvailable.jpg?Name=4th%20Hampden&width=70\",\n",
      "    \"url\": \"https://malegislature.gov/Legislators/District/4thHampden\",\n",
      "    \"email\": \"\",\n",
      "    \"phone\": \"(617) 722-2877\",\n",
      "    \"room\": \"174\",\n",
      "    \"chamber\": \"House\",\n",
      "    \"district\": \"4th Hampden\"\n",
      "  }\n",
      "]\n"
     ]
    }
   ],
   "source": [
    "representatives = get_chamber('house')"
   ]
  },
  {
   "cell_type": "code",
   "execution_count": 10,
   "metadata": {},
   "outputs": [
    {
     "data": {
      "application/vnd.jupyter.widget-view+json": {
       "model_id": "3ce879f95402450cafdbcf421d3dedfa",
       "version_major": 2,
       "version_minor": 0
      },
      "text/plain": [
       "HBox(children=(FloatProgress(value=0.0, max=40.0), HTML(value='')))"
      ]
     },
     "metadata": {},
     "output_type": "display_data"
    },
    {
     "name": "stdout",
     "output_type": "stream",
     "text": [
      "\n",
      "[\n",
      "  {\n",
      "    \"chamber\": \"Senate\",\n",
      "    \"district\": \"Third Middlesex\",\n",
      "    \"full_name\": \"Michael J. Barrett\",\n",
      "    \"first_name\": \"Michael\",\n",
      "    \"last_name\": \"Barrett\",\n",
      "    \"party\": \"Democrat\",\n",
      "    \"photo\": \"https://malegislature.gov/Legislators/Profile/70/MJB0.jpg\",\n",
      "    \"url\": \"https://malegislature.gov/Legislators/Profile/MJB0\",\n",
      "    \"email\": \"Mike.Barrett@masenate.gov\",\n",
      "    \"phone\": \"(617) 722-1572\",\n",
      "    \"room\": \"109-D\"\n",
      "  },\n",
      "  \"...\",\n",
      "  {\n",
      "    \"chamber\": \"Senate\",\n",
      "    \"district\": \"Hampden\",\n",
      "    \"full_name\": \"James T. Welch\",\n",
      "    \"first_name\": \"James\",\n",
      "    \"last_name\": \"Welch\",\n",
      "    \"party\": \"Democrat\",\n",
      "    \"photo\": \"https://malegislature.gov/Legislators/Profile/70/JTW0.jpg\",\n",
      "    \"url\": \"https://malegislature.gov/Legislators/Profile/JTW0\",\n",
      "    \"email\": \"James.Welch@masenate.gov\",\n",
      "    \"phone\": \"(617) 722-1660\",\n",
      "    \"room\": \"413-B\"\n",
      "  }\n",
      "]\n"
     ]
    }
   ],
   "source": [
    "senators = get_chamber('senate')"
   ]
  },
  {
   "cell_type": "code",
   "execution_count": 11,
   "metadata": {},
   "outputs": [
    {
     "name": "stdout",
     "output_type": "stream",
     "text": [
      "-rw-r--r--  1 brian  staff    57K Nov 28 06:24 ../static/ma_representatives.json\n",
      "[{\"chamber\": \"House\", \"district\": \"2nd Middlesex\", \"full_name\": \"James Arciero\", \"first_name\": \"James\", \"last_name\": \"Arciero\", \"party\": \"Democrat\", \"photo\": \"https://malegislature.gov/Legislators/Profile/70/J_A1.jpg\", \"url\": \"https://malegislature.gov/Legislators/Profile/J_A1\", \"email\": \"James.Arciero@mahouse.gov\", \"phone\": \"(617) 722-2012\", \"room\": \"277\"}, {\"chamber\": \"House\", \"district\": \"2nd Hampden\", \"full_name\": \"Brian M. Ashe\", \"first_name\": \"Brian\", \"last_name\": \"Ashe\", \"party\": \"Democrat\", \"photo\": \"https://malegislature.gov/Legislators/Profile/70/BMA1.jpg\", \"url\": \"https://malegislature.gov/Legislators/Profile/BMA1\", \"email\": \"Brian.Ashe@mahouse.gov\", \"phone\": \"(617) 722-2430\", \"room\": \"236\"}, {\"chamber\": \"House\", \"district\": \"1st Norfolk\", \"full_name\": \"Bruce J. Ayers\", \"first_name\": \"Bruce\", \"last_name\": \"Ayers\", \"party\": \"Democrat\", \"photo\": \"https://malegislature.gov/Legislators/Profile/70/BJA1.jpg\", \"url\": \"https://malegislature.gov/Legislators/Profile/BJA1\", \"email\": \"Bruce.Ayers@mahouse.gov\","
     ]
    }
   ],
   "source": [
    " save_json(representatives, '../static/ma_representatives.json')"
   ]
  },
  {
   "cell_type": "code",
   "execution_count": 12,
   "metadata": {},
   "outputs": [
    {
     "name": "stdout",
     "output_type": "stream",
     "text": [
      "-rw-r--r--  1 brian  staff    15K Nov 28 06:24 ../static/ma_senators.json\n",
      "[{\"chamber\": \"Senate\", \"district\": \"Third Middlesex\", \"full_name\": \"Michael J. Barrett\", \"first_name\": \"Michael\", \"last_name\": \"Barrett\", \"party\": \"Democrat\", \"photo\": \"https://malegislature.gov/Legislators/Profile/70/MJB0.jpg\", \"url\": \"https://malegislature.gov/Legislators/Profile/MJB0\", \"email\": \"Mike.Barrett@masenate.gov\", \"phone\": \"(617) 722-1572\", \"room\": \"109-D\"}, {\"chamber\": \"Senate\", \"district\": \"First Suffolk and Middlesex\", \"full_name\": \"Joseph A. Boncore\", \"first_name\": \"Joseph\", \"last_name\": \"Boncore\", \"party\": \"Democrat\", \"photo\": \"https://malegislature.gov/Legislators/Profile/70/JAB0.jpg\", \"url\": \"https://malegislature.gov/Legislators/Profile/JAB0\", \"email\": \"Joseph.Boncore@masenate.gov\", \"phone\": \"(617) 722-1634\", \"room\": \"112\"}, {\"chamber\": \"Senate\", \"district\": \"Second Plymouth and Bristol\", \"full_name\": \"Michael D. Brady\", \"first_name\": \"Michael\", \"last_name\": \"Brady\", \"party\": \"Democrat\", \"photo\": \"https://malegislature.gov/Legislators/Profile/70/MDB0.jpg\", \"url\": \"https://malegislature.gov"
     ]
    }
   ],
   "source": [
    "save_json(senators, '../static/ma_senators.json')"
   ]
  },
  {
   "cell_type": "code",
   "execution_count": 13,
   "metadata": {},
   "outputs": [
    {
     "name": "stdout",
     "output_type": "stream",
     "text": [
      "-rw-r--r--  1 brian  staff    71K Nov 28 06:24 ../static/ma_legislators.json\n",
      "[{\"chamber\": \"House\", \"district\": \"2nd Middlesex\", \"full_name\": \"James Arciero\", \"first_name\": \"James\", \"last_name\": \"Arciero\", \"party\": \"Democrat\", \"photo\": \"https://malegislature.gov/Legislators/Profile/70/J_A1.jpg\", \"url\": \"https://malegislature.gov/Legislators/Profile/J_A1\", \"email\": \"James.Arciero@mahouse.gov\", \"phone\": \"(617) 722-2012\", \"room\": \"277\"}, {\"chamber\": \"House\", \"district\": \"2nd Hampden\", \"full_name\": \"Brian M. Ashe\", \"first_name\": \"Brian\", \"last_name\": \"Ashe\", \"party\": \"Democrat\", \"photo\": \"https://malegislature.gov/Legislators/Profile/70/BMA1.jpg\", \"url\": \"https://malegislature.gov/Legislators/Profile/BMA1\", \"email\": \"Brian.Ashe@mahouse.gov\", \"phone\": \"(617) 722-2430\", \"room\": \"236\"}, {\"chamber\": \"House\", \"district\": \"1st Norfolk\", \"full_name\": \"Bruce J. Ayers\", \"first_name\": \"Bruce\", \"last_name\": \"Ayers\", \"party\": \"Democrat\", \"photo\": \"https://malegislature.gov/Legislators/Profile/70/BJA1.jpg\", \"url\": \"https://malegislature.gov/Legislators/Profile/BJA1\", \"email\": \"Bruce.Ayers@mahouse.gov\","
     ]
    }
   ],
   "source": [
    "save_json(representatives + senators, '../static/ma_legislators.json')"
   ]
  },
  {
   "cell_type": "code",
   "execution_count": null,
   "metadata": {},
   "outputs": [],
   "source": []
  }
 ],
 "metadata": {
  "kernelspec": {
   "display_name": "Python 3",
   "language": "python",
   "name": "python3"
  },
  "language_info": {
   "codemirror_mode": {
    "name": "ipython",
    "version": 3
   },
   "file_extension": ".py",
   "mimetype": "text/x-python",
   "name": "python",
   "nbconvert_exporter": "python",
   "pygments_lexer": "ipython3",
   "version": "3.8.3"
  }
 },
 "nbformat": 4,
 "nbformat_minor": 4
}
